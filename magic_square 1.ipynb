{
  "nbformat": 4,
  "nbformat_minor": 0,
  "metadata": {
    "colab": {
      "provenance": []
    },
    "kernelspec": {
      "name": "python3",
      "display_name": "Python 3"
    },
    "language_info": {
      "name": "python"
    }
  },
  "cells": [
    {
      "cell_type": "code",
      "execution_count": 26,
      "metadata": {
        "colab": {
          "base_uri": "https://localhost:8080/"
        },
        "id": "vu95S9zAsie-",
        "outputId": "3db864a8-2a99-4dcb-c8c9-445af02b6be6"
      },
      "outputs": [
        {
          "output_type": "stream",
          "name": "stdout",
          "text": [
            " 2  7  6\n",
            " 9  5  1\n",
            " 4  3  8\n",
            "Sum of diagonal/row/column is: 15\n"
          ]
        }
      ],
      "source": [
        "# code for magic sqaure\n",
        "\n",
        "def magic_square(n):\n",
        "  magicSquare = [[0 for i in range(n)] for j in range(n)]\n",
        "  i=n//2\n",
        "  j=n-1\n",
        "  num=n*n\n",
        "  count=1\n",
        "\n",
        "  while(count<=num):\n",
        "    if(i==-1 and j==n):\n",
        "      i=0\n",
        "      j=n-2\n",
        "    else:\n",
        "      if(j==n):       #column value exceeding\n",
        "        j=0\n",
        "      if(i<0):        #row is becoming -1\n",
        "        i=n-1\n",
        "    if (magicSquare[i][j]!=0):    #already has some value\n",
        "      i=i+1\n",
        "      j=j-2\n",
        "      continue\n",
        "    else:\n",
        "      magicSquare[i][j]=count\n",
        "      count=count+1\n",
        "    i=i-1\n",
        "    j=j+1\n",
        "  for row in magicSquare:\n",
        "        print(\" \".join(f\"{num:2}\" for num in row))\n",
        "\n",
        "  magic_constant = n * (n * n + 1) // 2\n",
        "  print(\"Sum of diagonal/row/column is:\", magic_constant)\n",
        "magic_square(3)\n"
      ]
    }
  ]
}